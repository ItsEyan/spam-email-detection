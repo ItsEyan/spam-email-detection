{
  "cells": [
    {
      "cell_type": "markdown",
      "metadata": {},
      "source": [
        "## Importing the Libraries"
      ]
    },
    {
      "cell_type": "code",
      "execution_count": 1,
      "metadata": {
        "id": "pF4vRO-gEpau"
      },
      "outputs": [],
      "source": [
        "import numpy as np \n",
        "import pandas as pd \n",
        "from sklearn.naive_bayes import GaussianNB \n",
        "from sklearn.model_selection import train_test_split \n",
        "from sklearn.feature_extraction.text import CountVectorizer\n",
        "import re \n",
        "import nltk "
      ]
    },
    {
      "cell_type": "markdown",
      "metadata": {},
      "source": [
        "## Importing the dataset"
      ]
    },
    {
      "cell_type": "code",
      "execution_count": 4,
      "metadata": {
        "colab": {
          "base_uri": "https://localhost:8080/",
          "height": 206
        },
        "id": "Livx3CHEEpav",
        "outputId": "37bd14c8-8e4f-4ace-f7a3-b3b4d0490960"
      },
      "outputs": [
        {
          "data": {
            "text/html": [
              "<div>\n",
              "<style scoped>\n",
              "    .dataframe tbody tr th:only-of-type {\n",
              "        vertical-align: middle;\n",
              "    }\n",
              "\n",
              "    .dataframe tbody tr th {\n",
              "        vertical-align: top;\n",
              "    }\n",
              "\n",
              "    .dataframe thead th {\n",
              "        text-align: right;\n",
              "    }\n",
              "</style>\n",
              "<table border=\"1\" class=\"dataframe\">\n",
              "  <thead>\n",
              "    <tr style=\"text-align: right;\">\n",
              "      <th></th>\n",
              "      <th>Unnamed: 0</th>\n",
              "      <th>Body</th>\n",
              "      <th>Label</th>\n",
              "    </tr>\n",
              "  </thead>\n",
              "  <tbody>\n",
              "    <tr>\n",
              "      <th>0</th>\n",
              "      <td>0</td>\n",
              "      <td>\\nSave up to 70% on Life Insurance.\\nWhy Spend...</td>\n",
              "      <td>1</td>\n",
              "    </tr>\n",
              "    <tr>\n",
              "      <th>1</th>\n",
              "      <td>1</td>\n",
              "      <td>1) Fight The Risk of Cancer!\\nhttp://www.adcli...</td>\n",
              "      <td>1</td>\n",
              "    </tr>\n",
              "    <tr>\n",
              "      <th>2</th>\n",
              "      <td>2</td>\n",
              "      <td>1) Fight The Risk of Cancer!\\nhttp://www.adcli...</td>\n",
              "      <td>1</td>\n",
              "    </tr>\n",
              "    <tr>\n",
              "      <th>3</th>\n",
              "      <td>3</td>\n",
              "      <td>##############################################...</td>\n",
              "      <td>1</td>\n",
              "    </tr>\n",
              "    <tr>\n",
              "      <th>4</th>\n",
              "      <td>4</td>\n",
              "      <td>I thought you might like these:\\n1) Slim Down ...</td>\n",
              "      <td>1</td>\n",
              "    </tr>\n",
              "  </tbody>\n",
              "</table>\n",
              "</div>"
            ],
            "text/plain": [
              "   Unnamed: 0                                               Body  Label\n",
              "0           0  \\nSave up to 70% on Life Insurance.\\nWhy Spend...      1\n",
              "1           1  1) Fight The Risk of Cancer!\\nhttp://www.adcli...      1\n",
              "2           2  1) Fight The Risk of Cancer!\\nhttp://www.adcli...      1\n",
              "3           3  ##############################################...      1\n",
              "4           4  I thought you might like these:\\n1) Slim Down ...      1"
            ]
          },
          "execution_count": 4,
          "metadata": {},
          "output_type": "execute_result"
        }
      ],
      "source": [
        "completeSpamAssassin = pd.read_csv('completeSpamAssassin.csv')\n",
        "enronSpamSubset = pd.read_csv('enronSpamSubset.csv')\n",
        "lingSpam = pd.read_csv('lingSpam.csv')\n",
        "completeSpamAssassin.head()"
      ]
    },
    {
      "cell_type": "markdown",
      "metadata": {
        "id": "U6ru7fTBH5_N"
      },
      "source": [
        "#### Dropping index columns"
      ]
    },
    {
      "cell_type": "code",
      "execution_count": 5,
      "metadata": {
        "colab": {
          "base_uri": "https://localhost:8080/",
          "height": 206
        },
        "id": "VmQGb6uaEpaw",
        "outputId": "539f8cd5-f25f-4258-e7c6-2d0a160b4a54"
      },
      "outputs": [
        {
          "data": {
            "text/html": [
              "<div>\n",
              "<style scoped>\n",
              "    .dataframe tbody tr th:only-of-type {\n",
              "        vertical-align: middle;\n",
              "    }\n",
              "\n",
              "    .dataframe tbody tr th {\n",
              "        vertical-align: top;\n",
              "    }\n",
              "\n",
              "    .dataframe thead th {\n",
              "        text-align: right;\n",
              "    }\n",
              "</style>\n",
              "<table border=\"1\" class=\"dataframe\">\n",
              "  <thead>\n",
              "    <tr style=\"text-align: right;\">\n",
              "      <th></th>\n",
              "      <th>Body</th>\n",
              "      <th>Label</th>\n",
              "    </tr>\n",
              "  </thead>\n",
              "  <tbody>\n",
              "    <tr>\n",
              "      <th>0</th>\n",
              "      <td>\\nSave up to 70% on Life Insurance.\\nWhy Spend...</td>\n",
              "      <td>1</td>\n",
              "    </tr>\n",
              "    <tr>\n",
              "      <th>1</th>\n",
              "      <td>1) Fight The Risk of Cancer!\\nhttp://www.adcli...</td>\n",
              "      <td>1</td>\n",
              "    </tr>\n",
              "    <tr>\n",
              "      <th>2</th>\n",
              "      <td>1) Fight The Risk of Cancer!\\nhttp://www.adcli...</td>\n",
              "      <td>1</td>\n",
              "    </tr>\n",
              "    <tr>\n",
              "      <th>3</th>\n",
              "      <td>##############################################...</td>\n",
              "      <td>1</td>\n",
              "    </tr>\n",
              "    <tr>\n",
              "      <th>4</th>\n",
              "      <td>I thought you might like these:\\n1) Slim Down ...</td>\n",
              "      <td>1</td>\n",
              "    </tr>\n",
              "  </tbody>\n",
              "</table>\n",
              "</div>"
            ],
            "text/plain": [
              "                                                Body  Label\n",
              "0  \\nSave up to 70% on Life Insurance.\\nWhy Spend...      1\n",
              "1  1) Fight The Risk of Cancer!\\nhttp://www.adcli...      1\n",
              "2  1) Fight The Risk of Cancer!\\nhttp://www.adcli...      1\n",
              "3  ##############################################...      1\n",
              "4  I thought you might like these:\\n1) Slim Down ...      1"
            ]
          },
          "execution_count": 5,
          "metadata": {},
          "output_type": "execute_result"
        }
      ],
      "source": [
        "completeSpamAssassin.drop('Unnamed: 0',inplace=True,axis=1)\n",
        "enronSpamSubset.drop(['Unnamed: 0','Unnamed: 0.1'],inplace=True,axis=1)\n",
        "lingSpam.drop('Unnamed: 0',inplace=True,axis=1)\n",
        "\n",
        "completeSpamAssassin.head()"
      ]
    },
    {
      "cell_type": "markdown",
      "metadata": {
        "id": "d_0AydQfJwva"
      },
      "source": [
        "#### Combining datasets"
      ]
    },
    {
      "cell_type": "code",
      "execution_count": 6,
      "metadata": {
        "colab": {
          "base_uri": "https://localhost:8080/",
          "height": 206
        },
        "id": "tOy2ESS4Epaw",
        "outputId": "7fd961d1-632b-4f82-c3b7-79b7db957048"
      },
      "outputs": [
        {
          "data": {
            "text/html": [
              "<div>\n",
              "<style scoped>\n",
              "    .dataframe tbody tr th:only-of-type {\n",
              "        vertical-align: middle;\n",
              "    }\n",
              "\n",
              "    .dataframe tbody tr th {\n",
              "        vertical-align: top;\n",
              "    }\n",
              "\n",
              "    .dataframe thead th {\n",
              "        text-align: right;\n",
              "    }\n",
              "</style>\n",
              "<table border=\"1\" class=\"dataframe\">\n",
              "  <thead>\n",
              "    <tr style=\"text-align: right;\">\n",
              "      <th></th>\n",
              "      <th>Body</th>\n",
              "      <th>Label</th>\n",
              "    </tr>\n",
              "  </thead>\n",
              "  <tbody>\n",
              "    <tr>\n",
              "      <th>0</th>\n",
              "      <td>\\nSave up to 70% on Life Insurance.\\nWhy Spend...</td>\n",
              "      <td>1</td>\n",
              "    </tr>\n",
              "    <tr>\n",
              "      <th>1</th>\n",
              "      <td>1) Fight The Risk of Cancer!\\nhttp://www.adcli...</td>\n",
              "      <td>1</td>\n",
              "    </tr>\n",
              "    <tr>\n",
              "      <th>2</th>\n",
              "      <td>1) Fight The Risk of Cancer!\\nhttp://www.adcli...</td>\n",
              "      <td>1</td>\n",
              "    </tr>\n",
              "    <tr>\n",
              "      <th>3</th>\n",
              "      <td>##############################################...</td>\n",
              "      <td>1</td>\n",
              "    </tr>\n",
              "    <tr>\n",
              "      <th>4</th>\n",
              "      <td>I thought you might like these:\\n1) Slim Down ...</td>\n",
              "      <td>1</td>\n",
              "    </tr>\n",
              "  </tbody>\n",
              "</table>\n",
              "</div>"
            ],
            "text/plain": [
              "                                                Body  Label\n",
              "0  \\nSave up to 70% on Life Insurance.\\nWhy Spend...      1\n",
              "1  1) Fight The Risk of Cancer!\\nhttp://www.adcli...      1\n",
              "2  1) Fight The Risk of Cancer!\\nhttp://www.adcli...      1\n",
              "3  ##############################################...      1\n",
              "4  I thought you might like these:\\n1) Slim Down ...      1"
            ]
          },
          "execution_count": 6,
          "metadata": {},
          "output_type": "execute_result"
        }
      ],
      "source": [
        "data = pd.concat([completeSpamAssassin, enronSpamSubset, lingSpam], axis=0)\n",
        "data.head()"
      ]
    },
    {
      "cell_type": "code",
      "execution_count": 7,
      "metadata": {
        "colab": {
          "base_uri": "https://localhost:8080/"
        },
        "id": "GPZY0oSNEpaw",
        "outputId": "d707d4c6-a1da-4f09-877b-e15a9dc55bf7"
      },
      "outputs": [
        {
          "name": "stdout",
          "output_type": "stream",
          "text": [
            "<class 'pandas.core.frame.DataFrame'>\n",
            "Int64Index: 18651 entries, 0 to 2604\n",
            "Data columns (total 2 columns):\n",
            " #   Column  Non-Null Count  Dtype \n",
            "---  ------  --------------  ----- \n",
            " 0   Body    18650 non-null  object\n",
            " 1   Label   18651 non-null  int64 \n",
            "dtypes: int64(1), object(1)\n",
            "memory usage: 437.1+ KB\n"
          ]
        }
      ],
      "source": [
        "data.info()"
      ]
    },
    {
      "cell_type": "markdown",
      "metadata": {
        "id": "a98lV6NoKLHK"
      },
      "source": [
        "#### Dropping any empty columns"
      ]
    },
    {
      "cell_type": "markdown",
      "metadata": {},
      "source": [
        "From the above info, we notice that there is one NULL value which needs to be removed before data processing."
      ]
    },
    {
      "cell_type": "code",
      "execution_count": 8,
      "metadata": {
        "colab": {
          "base_uri": "https://localhost:8080/"
        },
        "id": "cy2FuqiK8J8w",
        "outputId": "b2e76e6f-09b7-4caf-d10b-c6d05e6ab677"
      },
      "outputs": [
        {
          "name": "stdout",
          "output_type": "stream",
          "text": [
            "<class 'pandas.core.frame.DataFrame'>\n",
            "Int64Index: 18650 entries, 0 to 2604\n",
            "Data columns (total 2 columns):\n",
            " #   Column  Non-Null Count  Dtype \n",
            "---  ------  --------------  ----- \n",
            " 0   Body    18650 non-null  object\n",
            " 1   Label   18650 non-null  int64 \n",
            "dtypes: int64(1), object(1)\n",
            "memory usage: 437.1+ KB\n"
          ]
        }
      ],
      "source": [
        "data.dropna(inplace=True)\n",
        "data.info()"
      ]
    },
    {
      "cell_type": "markdown",
      "metadata": {
        "id": "djJG5_znKi-P"
      },
      "source": [
        "#### Using list comprehension to remove links from the dataset "
      ]
    },
    {
      "cell_type": "code",
      "execution_count": 9,
      "metadata": {
        "colab": {
          "base_uri": "https://localhost:8080/",
          "height": 89
        },
        "id": "r8IfNXuJKite",
        "outputId": "418af94a-502b-44de-a17c-ae0cfbd167b3"
      },
      "outputs": [
        {
          "data": {
            "text/plain": [
              "\"1) Fight The Risk of Cancer!\\n Slim Down - Guaranteed to lose 10-12 lbs in 30 days\\n Get the Child Support You Deserve - Free Legal Advice\\n Join the Web's Fastest Growing Singles Community\\n Start Your Private Photo Album Online!\\n a Wonderful Day,\\nOffer Manager\\nPrizeMamaIf you wish to leave this list please use the link below.\\n\\n-- \\nIrish Linux Users' Group: ilug@linux.ie\\n for (un)subscription information.\\nList maintainer: listmaster@linux.ie\""
            ]
          },
          "execution_count": 9,
          "metadata": {},
          "output_type": "execute_result"
        }
      ],
      "source": [
        "remove_link = []\n",
        "for body in data[\"Body\"]:\n",
        "    remove_link.append(re.sub(r'http\\S+', '', body))\n",
        "\n",
        "remove_link[1]"
      ]
    },
    {
      "cell_type": "markdown",
      "metadata": {
        "id": "bR1wVfnmK3zx"
      },
      "source": [
        "#### Removing special characters from the emails"
      ]
    },
    {
      "cell_type": "code",
      "execution_count": 10,
      "metadata": {
        "colab": {
          "base_uri": "https://localhost:8080/",
          "height": 89
        },
        "id": "jHDzOMFD9zpm",
        "outputId": "f7764301-7975-4bcb-ff58-6ca5fa98e060"
      },
      "outputs": [
        {
          "data": {
            "text/plain": [
              "'1 Fight The Risk of Cancer Slim Down  Guaranteed to lose 1012 lbs in 30 days Get the Child Support You Deserve  Free Legal Advice Join the Webs Fastest Growing Singles Community Start Your Private Photo Album Online a Wonderful DayOffer ManagerPrizeMamaIf you wish to leave this list please use the link below Irish Linux Users Group iluglinuxie for unsubscription informationList maintainer listmasterlinuxie'"
            ]
          },
          "execution_count": 10,
          "metadata": {},
          "output_type": "execute_result"
        }
      ],
      "source": [
        "clean_dataset = []\n",
        "for body in remove_link:\n",
        "    clean_dataset.append(re.sub('[^a-zA-Z0-9 ]', '', body))\n",
        "    \n",
        "clean_dataset[1]"
      ]
    },
    {
      "cell_type": "markdown",
      "metadata": {
        "id": "BbTeO26JLXfr"
      },
      "source": [
        "#### To make text easier to analyse, we convert all characters to lowercase."
      ]
    },
    {
      "cell_type": "code",
      "execution_count": 11,
      "metadata": {
        "colab": {
          "base_uri": "https://localhost:8080/",
          "height": 89
        },
        "id": "GJs2Iy-8N_69",
        "outputId": "05eb912b-2ce8-425b-dc88-e3cc1e837df2"
      },
      "outputs": [
        {
          "data": {
            "text/plain": [
              "'1 fight the risk of cancer slim down  guaranteed to lose 1012 lbs in 30 days get the child support you deserve  free legal advice join the webs fastest growing singles community start your private photo album online a wonderful dayoffer managerprizemamaif you wish to leave this list please use the link below irish linux users group iluglinuxie for unsubscription informationlist maintainer listmasterlinuxie'"
            ]
          },
          "execution_count": 11,
          "metadata": {},
          "output_type": "execute_result"
        }
      ],
      "source": [
        "lower_dataset = []\n",
        "for body in clean_dataset:\n",
        "    lower_dataset.append(body.lower())\n",
        "    \n",
        "lower_dataset[1]"
      ]
    },
    {
      "cell_type": "markdown",
      "metadata": {
        "id": "xtW223I1MWEc"
      },
      "source": [
        "#### To clean the dataset further, we will need to split each email into a list of words. We can use the Natural Language Toolkit (NLTK) library"
      ]
    },
    {
      "cell_type": "code",
      "execution_count": 13,
      "metadata": {
        "colab": {
          "base_uri": "https://localhost:8080/"
        },
        "id": "I9-EQniwMUCh",
        "outputId": "252c3483-fc7e-42c8-d4e1-1782d53bf5b8"
      },
      "outputs": [
        {
          "name": "stderr",
          "output_type": "stream",
          "text": [
            "[nltk_data] Downloading package punkt to /Users/eyan/nltk_data...\n",
            "[nltk_data]   Package punkt is already up-to-date!\n"
          ]
        },
        {
          "data": {
            "text/plain": [
              "['save',\n",
              " 'up',\n",
              " 'to',\n",
              " '70',\n",
              " 'on',\n",
              " 'life',\n",
              " 'insurancewhy',\n",
              " 'spend',\n",
              " 'more',\n",
              " 'than']"
            ]
          },
          "execution_count": 13,
          "metadata": {},
          "output_type": "execute_result"
        }
      ],
      "source": [
        "nltk.download('punkt')\n",
        "tokens = []\n",
        "for body in lower_dataset:\n",
        "    tokens.append(nltk.word_tokenize(body))\n",
        "    \n",
        "tokens[0][:10]"
      ]
    },
    {
      "cell_type": "markdown",
      "metadata": {
        "id": "hcSaJa-dNafc"
      },
      "source": [
        "Many words come in different forms such as plural and singular. Lemmaitization can be used which is defined as to \"sort so as to group together inflected or variant forms of the same word.\" We can use the NLTK library again to lemmatize the words in the dataset"
      ]
    },
    {
      "cell_type": "code",
      "execution_count": 18,
      "metadata": {
        "colab": {
          "base_uri": "https://localhost:8080/"
        },
        "id": "P40td27gNUqO",
        "outputId": "58e7ca34-d3d7-4660-e1b2-efebfd3e74a4"
      },
      "outputs": [
        {
          "name": "stderr",
          "output_type": "stream",
          "text": [
            "[nltk_data] Downloading package wordnet to /Users/eyan/nltk_data...\n",
            "[nltk_data]   Package wordnet is already up-to-date!\n"
          ]
        }
      ],
      "source": [
        "nltk.download('wordnet')\n",
        "from nltk.stem import WordNetLemmatizer\n",
        "lemma = WordNetLemmatizer()\n",
        "\n",
        "lemmatized = []\n",
        "for word_list in tokens:\n",
        "    temp_list = []\n",
        "    for word in word_list:\n",
        "        temp_list.append(lemma.lemmatize(word))\n",
        "    lemmatized.append(temp_list)"
      ]
    },
    {
      "cell_type": "markdown",
      "metadata": {
        "id": "sAtRzFsJOGM0"
      },
      "source": [
        "Now we want to filter out the useless words that add no information to each email (e.g i, you, that, and, this). These are called stop words. Again the NLTK library can help us filter the dataset to remove stopwords."
      ]
    },
    {
      "cell_type": "markdown",
      "metadata": {
        "id": "srQyguQKOee9"
      },
      "source": [
        "These are the stopwords we will be using"
      ]
    },
    {
      "cell_type": "code",
      "execution_count": 20,
      "metadata": {
        "colab": {
          "base_uri": "https://localhost:8080/"
        },
        "id": "LETSWDg_OaZ0",
        "outputId": "13fc9a52-46c2-4a94-a92a-9415958d8508"
      },
      "outputs": [
        {
          "name": "stdout",
          "output_type": "stream",
          "text": [
            "['i', 'me', 'my', 'myself', 'we', 'our', 'ours', 'ourselves', 'you', \"you're\", \"you've\", \"you'll\", \"you'd\", 'your', 'yours', 'yourself', 'yourselves', 'he', 'him', 'his', 'himself', 'she', \"she's\", 'her', 'hers', 'herself', 'it', \"it's\", 'its', 'itself', 'they', 'them', 'their', 'theirs', 'themselves', 'what', 'which', 'who', 'whom', 'this', 'that', \"that'll\", 'these', 'those', 'am', 'is', 'are', 'was', 'were', 'be', 'been', 'being', 'have', 'has', 'had', 'having', 'do', 'does', 'did', 'doing', 'a', 'an', 'the', 'and', 'but', 'if', 'or', 'because', 'as', 'until', 'while', 'of', 'at', 'by', 'for', 'with', 'about', 'against', 'between', 'into', 'through', 'during', 'before', 'after', 'above', 'below', 'to', 'from', 'up', 'down', 'in', 'out', 'on', 'off', 'over', 'under', 'again', 'further', 'then', 'once', 'here', 'there', 'when', 'where', 'why', 'how', 'all', 'any', 'both', 'each', 'few', 'more', 'most', 'other', 'some', 'such', 'no', 'nor', 'not', 'only', 'own', 'same', 'so', 'than', 'too', 'very', 's', 't', 'can', 'will', 'just', 'don', \"don't\", 'should', \"should've\", 'now', 'd', 'll', 'm', 'o', 're', 've', 'y', 'ain', 'aren', \"aren't\", 'couldn', \"couldn't\", 'didn', \"didn't\", 'doesn', \"doesn't\", 'hadn', \"hadn't\", 'hasn', \"hasn't\", 'haven', \"haven't\", 'isn', \"isn't\", 'ma', 'mightn', \"mightn't\", 'mustn', \"mustn't\", 'needn', \"needn't\", 'shan', \"shan't\", 'shouldn', \"shouldn't\", 'wasn', \"wasn't\", 'weren', \"weren't\", 'won', \"won't\", 'wouldn', \"wouldn't\"]\n"
          ]
        },
        {
          "name": "stderr",
          "output_type": "stream",
          "text": [
            "[nltk_data] Downloading package stopwords to /Users/eyan/nltk_data...\n",
            "[nltk_data]   Package stopwords is already up-to-date!\n"
          ]
        }
      ],
      "source": [
        "nltk.download('stopwords')\n",
        "from nltk.corpus import stopwords\n",
        "print(stopwords.words('english'))"
      ]
    },
    {
      "cell_type": "markdown",
      "metadata": {
        "id": "ktf_VRFjOsMR"
      },
      "source": [
        "#### Filtering out the stopwords and lemmatizing the emails"
      ]
    },
    {
      "cell_type": "code",
      "execution_count": 21,
      "metadata": {
        "id": "nzdwOZLSOrj-"
      },
      "outputs": [
        {
          "name": "stdout",
          "output_type": "stream",
          "text": [
            "['save', '70', 'life', 'insurancewhy', 'spend', 'tolife', 'quote', 'savingsensuring', 'family', 'financial', 'security', 'important', 'life', 'quote', 'saving', 'make', 'buying', 'life', 'insurance', 'simple', 'affordable', 'provide', 'free', 'access', 'best', 'company', 'lowest', 'rateslife', 'quote', 'saving', 'fast', 'easy', 'save', 'money', 'let', 'u', 'help', 'get', 'started', 'best', 'value', 'country', 'new', 'coverage', 'save', 'hundred', 'even', 'thousand', 'dollar', 'requesting', 'free', 'quote', 'lifequote', 'saving', 'service', 'take', 'le', '5', 'minute', 'complete', 'shop', 'compare', 'save', '70', 'type', 'life', 'insurance', 'click', 'free', 'quoteprotecting', 'family', 'best', 'investment', 'youll', 'ever', 'makeif', 'receipt', 'email', 'error', 'andor', 'wish', 'removed', 'list', 'please', 'click', 'type', 'remove', 'reside', 'state', 'prohibits', 'email', 'solicitation', 'insurance', 'please', 'disregard', 'email']\n"
          ]
        }
      ],
      "source": [
        "without_stopwords = []\n",
        "for word_list in lemmatized:\n",
        "    temp_list = []\n",
        "    for word in word_list:\n",
        "        if word not in stopwords.words('english'):\n",
        "            temp_list.append(word)\n",
        "    without_stopwords.append(temp_list)\n",
        "    \n",
        "without_stopwords[0]"
      ]
    },
    {
      "cell_type": "markdown",
      "metadata": {},
      "source": [
        "#### Concatenating the cleaned text with the spam label column from the original dataset."
      ]
    },
    {
      "cell_type": "code",
      "execution_count": 22,
      "metadata": {},
      "outputs": [
        {
          "data": {
            "text/html": [
              "<div>\n",
              "<style scoped>\n",
              "    .dataframe tbody tr th:only-of-type {\n",
              "        vertical-align: middle;\n",
              "    }\n",
              "\n",
              "    .dataframe tbody tr th {\n",
              "        vertical-align: top;\n",
              "    }\n",
              "\n",
              "    .dataframe thead th {\n",
              "        text-align: right;\n",
              "    }\n",
              "</style>\n",
              "<table border=\"1\" class=\"dataframe\">\n",
              "  <thead>\n",
              "    <tr style=\"text-align: right;\">\n",
              "      <th></th>\n",
              "      <th>Body</th>\n",
              "      <th>Label</th>\n",
              "    </tr>\n",
              "  </thead>\n",
              "  <tbody>\n",
              "    <tr>\n",
              "      <th>0</th>\n",
              "      <td>save 70 life insurancewhy spend tolife quote s...</td>\n",
              "      <td>1</td>\n",
              "    </tr>\n",
              "    <tr>\n",
              "      <th>1</th>\n",
              "      <td>1 fight risk cancer slim guaranteed lose 1012 ...</td>\n",
              "      <td>1</td>\n",
              "    </tr>\n",
              "    <tr>\n",
              "      <th>2</th>\n",
              "      <td>1 fight risk cancer slim guaranteed lose 1012 ...</td>\n",
              "      <td>1</td>\n",
              "    </tr>\n",
              "    <tr>\n",
              "      <th>3</th>\n",
              "      <td>adult club offer free membership instant acces...</td>\n",
              "      <td>1</td>\n",
              "    </tr>\n",
              "    <tr>\n",
              "      <th>4</th>\n",
              "      <td>thought might like these1 slim guaranteed lose...</td>\n",
              "      <td>1</td>\n",
              "    </tr>\n",
              "    <tr>\n",
              "      <th>...</th>\n",
              "      <td>...</td>\n",
              "      <td>...</td>\n",
              "    </tr>\n",
              "    <tr>\n",
              "      <th>18645</th>\n",
              "      <td>subject computationally intensive method quant...</td>\n",
              "      <td>0</td>\n",
              "    </tr>\n",
              "    <tr>\n",
              "      <th>18646</th>\n",
              "      <td>subject book survey american linguistics publi...</td>\n",
              "      <td>0</td>\n",
              "    </tr>\n",
              "    <tr>\n",
              "      <th>18647</th>\n",
              "      <td>subject wecol 98 western conference linguistic...</td>\n",
              "      <td>0</td>\n",
              "    </tr>\n",
              "    <tr>\n",
              "      <th>18648</th>\n",
              "      <td>subject euralex 98 revised programme euralex 9...</td>\n",
              "      <td>0</td>\n",
              "    </tr>\n",
              "    <tr>\n",
              "      <th>18649</th>\n",
              "      <td>bodylabel 0subject great parttime summer job d...</td>\n",
              "      <td>0</td>\n",
              "    </tr>\n",
              "  </tbody>\n",
              "</table>\n",
              "<p>18650 rows × 2 columns</p>\n",
              "</div>"
            ],
            "text/plain": [
              "                                                    Body  Label\n",
              "0      save 70 life insurancewhy spend tolife quote s...      1\n",
              "1      1 fight risk cancer slim guaranteed lose 1012 ...      1\n",
              "2      1 fight risk cancer slim guaranteed lose 1012 ...      1\n",
              "3      adult club offer free membership instant acces...      1\n",
              "4      thought might like these1 slim guaranteed lose...      1\n",
              "...                                                  ...    ...\n",
              "18645  subject computationally intensive method quant...      0\n",
              "18646  subject book survey american linguistics publi...      0\n",
              "18647  subject wecol 98 western conference linguistic...      0\n",
              "18648  subject euralex 98 revised programme euralex 9...      0\n",
              "18649  bodylabel 0subject great parttime summer job d...      0\n",
              "\n",
              "[18650 rows x 2 columns]"
            ]
          },
          "execution_count": 22,
          "metadata": {},
          "output_type": "execute_result"
        }
      ],
      "source": [
        "df = [' '.join(text) for text in without_stopwords]\n",
        "df = pd.DataFrame(df)\n",
        "label = pd.DataFrame(data[\"Label\"])\n",
        "df.reset_index(drop=True, inplace=True)\n",
        "label.reset_index(drop=True, inplace=True)\n",
        "clean = pd.concat([df, label], ignore_index=True, axis=1)\n",
        "clean.rename(columns={0: 'Body', 1: 'Label'}, inplace=True)\n",
        "clean"
      ]
    },
    {
      "cell_type": "markdown",
      "metadata": {},
      "source": [
        "#### Saving the cleaned dataset"
      ]
    },
    {
      "cell_type": "code",
      "execution_count": 63,
      "metadata": {},
      "outputs": [],
      "source": [
        "clean.to_csv(\"cleaned_email_data.csv\", sep=',', encoding='utf-8')"
      ]
    }
  ],
  "metadata": {
    "colab": {
      "provenance": []
    },
    "interpreter": {
      "hash": "b0fa6594d8f4cbf19f97940f81e996739fb7646882a419484c72d19e05852a7e"
    },
    "kernelspec": {
      "display_name": "Python 3.9.12 64-bit",
      "language": "python",
      "name": "python3"
    },
    "language_info": {
      "codemirror_mode": {
        "name": "ipython",
        "version": 3
      },
      "file_extension": ".py",
      "mimetype": "text/x-python",
      "name": "python",
      "nbconvert_exporter": "python",
      "pygments_lexer": "ipython3",
      "version": "3.9.12"
    }
  },
  "nbformat": 4,
  "nbformat_minor": 0
}
